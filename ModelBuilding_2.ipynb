{
 "cells": [
  {
   "cell_type": "markdown",
   "metadata": {},
   "source": [
    "## Importing relevant packages"
   ]
  },
  {
   "cell_type": "code",
   "execution_count": 13,
   "metadata": {},
   "outputs": [
    {
     "name": "stderr",
     "output_type": "stream",
     "text": [
      "[nltk_data] Downloading package stopwords to C:\\Users\\Loh Dai\n",
      "[nltk_data]     Jiu\\AppData\\Roaming\\nltk_data...\n",
      "[nltk_data]   Package stopwords is already up-to-date!\n"
     ]
    }
   ],
   "source": [
    "import pandas as pd\n",
    "import numpy as np\n",
    "import xgboost as xgb\n",
    "from tqdm import tqdm\n",
    "from sklearn.svm import SVC\n",
    "from keras.models import Sequential\n",
    "from keras.layers.core import Dense, Activation, Dropout\n",
    "from sklearn.model_selection import GridSearchCV\n",
    "from sklearn.feature_extraction.text import TfidfVectorizer, CountVectorizer\n",
    "from sklearn.linear_model import LogisticRegression\n",
    "from sklearn.model_selection import train_test_split\n",
    "from sklearn.naive_bayes import MultinomialNB\n",
    "from keras.layers import SpatialDropout1D\n",
    "from keras.preprocessing import text\n",
    "from keras.callbacks import EarlyStopping\n",
    "from nltk import word_tokenize\n",
    "from nltk.corpus import stopwords\n",
    "from keras.utils import pad_sequences\n",
    "import tensorflow as tf\n",
    "import seaborn as sns\n",
    "from sklearn.metrics import classification_report, confusion_matrix\n",
    "import re\n",
    "import string\n",
    "import nltk\n",
    "nltk.download('stopwords')\n",
    "from sklearn.ensemble import RandomForestClassifier, StackingClassifier\n",
    "from keras.layers import Flatten\n",
    "from keras.layers.convolutional import Conv1D\n",
    "from keras.layers.convolutional import MaxPooling1D\n"
   ]
  },
  {
   "cell_type": "markdown",
   "metadata": {},
   "source": [
    "## 1.) Importing dataframe and removing duplicates claims"
   ]
  },
  {
   "cell_type": "code",
   "execution_count": 3,
   "metadata": {},
   "outputs": [
    {
     "name": "stdout",
     "output_type": "stream",
     "text": [
      "(25923, 13)\n"
     ]
    }
   ],
   "source": [
    "df = pd.read_csv(\"politifact_data_labels.csv\")\n",
    "print(df.shape)\n",
    "df.drop_duplicates(subset = ['claim'], keep = 'last', inplace = True)\n"
   ]
  },
  {
   "cell_type": "markdown",
   "metadata": {},
   "source": [
    "## 2.) Apply text preprocessing (Removal of stopwords, lower casing)"
   ]
  },
  {
   "cell_type": "code",
   "execution_count": 4,
   "metadata": {},
   "outputs": [
    {
     "data": {
      "text/plain": [
       "0              ron johnson came favor federal abortion ban\n",
       "2           blake masters wants pass national ban abortion\n",
       "3        brian kemp wants investigate punish women misc...\n",
       "5        overturning roe v wade unconstitutional action...\n",
       "6        way shape form access contraception limited ri...\n",
       "                               ...                        \n",
       "25918    100 days since passage economic stimulus saved...\n",
       "25919    employee free choice act mandates elimination ...\n",
       "25920    state senator illinois obama made sure women g...\n",
       "25921    illinois senate barack obama passed legislatio...\n",
       "25922    hillary clinton willing workers wages garnishe...\n",
       "Name: claim, Length: 16733, dtype: object"
      ]
     },
     "execution_count": 4,
     "metadata": {},
     "output_type": "execute_result"
    }
   ],
   "source": [
    "df['claim'] = df['claim'].apply(lambda x: re.sub('[%s]' % re.escape(string.punctuation), '' , x)).apply(lambda x: x.replace(\"“\", \"\")).apply(lambda x: x.replace(\"”\", \"\"))\n",
    "\n",
    "#Remove stopwords\n",
    "stop = set(stopwords.words(\"english\"))\n",
    "def remove_stopwords(text):\n",
    "    text = [word.lower() for word in text.split() if word.lower() not in stop]\n",
    "    return \" \".join(text)\n",
    "df['claim'] = df['claim'].apply(lambda x: remove_stopwords(x))\n",
    "df['claim']"
   ]
  },
  {
   "cell_type": "markdown",
   "metadata": {},
   "source": [
    "## 3.) Train test split"
   ]
  },
  {
   "cell_type": "code",
   "execution_count": 5,
   "metadata": {},
   "outputs": [],
   "source": [
    "x_train, x_test, y_train, y_test = train_test_split(df['claim'], df['accuracy'], random_state = 42, test_size = 0.2)"
   ]
  },
  {
   "cell_type": "code",
   "execution_count": 151,
   "metadata": {},
   "outputs": [
    {
     "data": {
      "text/plain": [
       "(13386,)"
      ]
     },
     "execution_count": 151,
     "metadata": {},
     "output_type": "execute_result"
    }
   ],
   "source": [
    "x_train.shape"
   ]
  },
  {
   "cell_type": "code",
   "execution_count": 152,
   "metadata": {},
   "outputs": [],
   "source": [
    "def score_model(model, x, y):\n",
    "    pred = model.predict(x)\n",
    "    print(classification_report(y, pred))\n",
    "\n",
    "    cm = confusion_matrix(y, pred)\n",
    "    columns = np.unique(y)\n",
    "    df_cm = pd.DataFrame(cm, index=columns, columns=columns)\n",
    "    ax = sns.heatmap(df_cm, cmap='Oranges', annot=True, fmt='g')\n",
    "    ax.set_xlabel(\"Predicted\")\n",
    "    ax.set_ylabel(\"Actual\")"
   ]
  },
  {
   "cell_type": "markdown",
   "metadata": {},
   "source": [
    "## 4.) Text feature engineering using TF-IDF vectorizer"
   ]
  },
  {
   "cell_type": "code",
   "execution_count": 153,
   "metadata": {},
   "outputs": [],
   "source": [
    "tfv = TfidfVectorizer(min_df=3,  max_features=None, \n",
    "            strip_accents='unicode', analyzer='word',token_pattern=r'\\w{1,}',\n",
    "            ngram_range=(1, 3), use_idf=1,smooth_idf=1,sublinear_tf=1,\n",
    "            stop_words = 'english')\n",
    "\n",
    "# Fitting TF-IDF to both training and test sets (semi-supervised learning)\n",
    "tfv.fit(x_train)\n",
    "x_train_tfv =  tfv.transform(x_train) \n",
    "x_test_tfv = tfv.transform(x_test)"
   ]
  },
  {
   "cell_type": "markdown",
   "metadata": {},
   "source": [
    "## 5.) Logistic Regression including hyperparameter tuning"
   ]
  },
  {
   "cell_type": "code",
   "execution_count": 154,
   "metadata": {},
   "outputs": [
    {
     "data": {
      "text/html": [
       "<style>#sk-container-id-5 {color: black;background-color: white;}#sk-container-id-5 pre{padding: 0;}#sk-container-id-5 div.sk-toggleable {background-color: white;}#sk-container-id-5 label.sk-toggleable__label {cursor: pointer;display: block;width: 100%;margin-bottom: 0;padding: 0.3em;box-sizing: border-box;text-align: center;}#sk-container-id-5 label.sk-toggleable__label-arrow:before {content: \"▸\";float: left;margin-right: 0.25em;color: #696969;}#sk-container-id-5 label.sk-toggleable__label-arrow:hover:before {color: black;}#sk-container-id-5 div.sk-estimator:hover label.sk-toggleable__label-arrow:before {color: black;}#sk-container-id-5 div.sk-toggleable__content {max-height: 0;max-width: 0;overflow: hidden;text-align: left;background-color: #f0f8ff;}#sk-container-id-5 div.sk-toggleable__content pre {margin: 0.2em;color: black;border-radius: 0.25em;background-color: #f0f8ff;}#sk-container-id-5 input.sk-toggleable__control:checked~div.sk-toggleable__content {max-height: 200px;max-width: 100%;overflow: auto;}#sk-container-id-5 input.sk-toggleable__control:checked~label.sk-toggleable__label-arrow:before {content: \"▾\";}#sk-container-id-5 div.sk-estimator input.sk-toggleable__control:checked~label.sk-toggleable__label {background-color: #d4ebff;}#sk-container-id-5 div.sk-label input.sk-toggleable__control:checked~label.sk-toggleable__label {background-color: #d4ebff;}#sk-container-id-5 input.sk-hidden--visually {border: 0;clip: rect(1px 1px 1px 1px);clip: rect(1px, 1px, 1px, 1px);height: 1px;margin: -1px;overflow: hidden;padding: 0;position: absolute;width: 1px;}#sk-container-id-5 div.sk-estimator {font-family: monospace;background-color: #f0f8ff;border: 1px dotted black;border-radius: 0.25em;box-sizing: border-box;margin-bottom: 0.5em;}#sk-container-id-5 div.sk-estimator:hover {background-color: #d4ebff;}#sk-container-id-5 div.sk-parallel-item::after {content: \"\";width: 100%;border-bottom: 1px solid gray;flex-grow: 1;}#sk-container-id-5 div.sk-label:hover label.sk-toggleable__label {background-color: #d4ebff;}#sk-container-id-5 div.sk-serial::before {content: \"\";position: absolute;border-left: 1px solid gray;box-sizing: border-box;top: 0;bottom: 0;left: 50%;z-index: 0;}#sk-container-id-5 div.sk-serial {display: flex;flex-direction: column;align-items: center;background-color: white;padding-right: 0.2em;padding-left: 0.2em;position: relative;}#sk-container-id-5 div.sk-item {position: relative;z-index: 1;}#sk-container-id-5 div.sk-parallel {display: flex;align-items: stretch;justify-content: center;background-color: white;position: relative;}#sk-container-id-5 div.sk-item::before, #sk-container-id-5 div.sk-parallel-item::before {content: \"\";position: absolute;border-left: 1px solid gray;box-sizing: border-box;top: 0;bottom: 0;left: 50%;z-index: -1;}#sk-container-id-5 div.sk-parallel-item {display: flex;flex-direction: column;z-index: 1;position: relative;background-color: white;}#sk-container-id-5 div.sk-parallel-item:first-child::after {align-self: flex-end;width: 50%;}#sk-container-id-5 div.sk-parallel-item:last-child::after {align-self: flex-start;width: 50%;}#sk-container-id-5 div.sk-parallel-item:only-child::after {width: 0;}#sk-container-id-5 div.sk-dashed-wrapped {border: 1px dashed gray;margin: 0 0.4em 0.5em 0.4em;box-sizing: border-box;padding-bottom: 0.4em;background-color: white;}#sk-container-id-5 div.sk-label label {font-family: monospace;font-weight: bold;display: inline-block;line-height: 1.2em;}#sk-container-id-5 div.sk-label-container {text-align: center;}#sk-container-id-5 div.sk-container {/* jupyter's `normalize.less` sets `[hidden] { display: none; }` but bootstrap.min.css set `[hidden] { display: none !important; }` so we also need the `!important` here to be able to override the default hidden behavior on the sphinx rendered scikit-learn.org. See: https://github.com/scikit-learn/scikit-learn/issues/21755 */display: inline-block !important;position: relative;}#sk-container-id-5 div.sk-text-repr-fallback {display: none;}</style><div id=\"sk-container-id-5\" class=\"sk-top-container\"><div class=\"sk-text-repr-fallback\"><pre>GridSearchCV(cv=10,\n",
       "             estimator=LogisticRegression(max_iter=10000, solver=&#x27;liblinear&#x27;),\n",
       "             param_grid={&#x27;C&#x27;: array([1.e-03, 1.e-02, 1.e-01, 1.e+00, 1.e+01, 1.e+02, 1.e+03]),\n",
       "                         &#x27;penalty&#x27;: [&#x27;l1&#x27;, &#x27;l2&#x27;]},\n",
       "             scoring=&#x27;accuracy&#x27;)</pre><b>In a Jupyter environment, please rerun this cell to show the HTML representation or trust the notebook. <br />On GitHub, the HTML representation is unable to render, please try loading this page with nbviewer.org.</b></div><div class=\"sk-container\" hidden><div class=\"sk-item sk-dashed-wrapped\"><div class=\"sk-label-container\"><div class=\"sk-label sk-toggleable\"><input class=\"sk-toggleable__control sk-hidden--visually\" id=\"sk-estimator-id-13\" type=\"checkbox\" ><label for=\"sk-estimator-id-13\" class=\"sk-toggleable__label sk-toggleable__label-arrow\">GridSearchCV</label><div class=\"sk-toggleable__content\"><pre>GridSearchCV(cv=10,\n",
       "             estimator=LogisticRegression(max_iter=10000, solver=&#x27;liblinear&#x27;),\n",
       "             param_grid={&#x27;C&#x27;: array([1.e-03, 1.e-02, 1.e-01, 1.e+00, 1.e+01, 1.e+02, 1.e+03]),\n",
       "                         &#x27;penalty&#x27;: [&#x27;l1&#x27;, &#x27;l2&#x27;]},\n",
       "             scoring=&#x27;accuracy&#x27;)</pre></div></div></div><div class=\"sk-parallel\"><div class=\"sk-parallel-item\"><div class=\"sk-item\"><div class=\"sk-label-container\"><div class=\"sk-label sk-toggleable\"><input class=\"sk-toggleable__control sk-hidden--visually\" id=\"sk-estimator-id-14\" type=\"checkbox\" ><label for=\"sk-estimator-id-14\" class=\"sk-toggleable__label sk-toggleable__label-arrow\">estimator: LogisticRegression</label><div class=\"sk-toggleable__content\"><pre>LogisticRegression(max_iter=10000, solver=&#x27;liblinear&#x27;)</pre></div></div></div><div class=\"sk-serial\"><div class=\"sk-item\"><div class=\"sk-estimator sk-toggleable\"><input class=\"sk-toggleable__control sk-hidden--visually\" id=\"sk-estimator-id-15\" type=\"checkbox\" ><label for=\"sk-estimator-id-15\" class=\"sk-toggleable__label sk-toggleable__label-arrow\">LogisticRegression</label><div class=\"sk-toggleable__content\"><pre>LogisticRegression(max_iter=10000, solver=&#x27;liblinear&#x27;)</pre></div></div></div></div></div></div></div></div></div></div>"
      ],
      "text/plain": [
       "GridSearchCV(cv=10,\n",
       "             estimator=LogisticRegression(max_iter=10000, solver='liblinear'),\n",
       "             param_grid={'C': array([1.e-03, 1.e-02, 1.e-01, 1.e+00, 1.e+01, 1.e+02, 1.e+03]),\n",
       "                         'penalty': ['l1', 'l2']},\n",
       "             scoring='accuracy')"
      ]
     },
     "execution_count": 154,
     "metadata": {},
     "output_type": "execute_result"
    }
   ],
   "source": [
    "parameters = {\n",
    "    'penalty' : ['l1','l2'], \n",
    "    'C'       : np.logspace(-3,3,7),\n",
    "}\n",
    "lr = LogisticRegression(max_iter=10000, solver='liblinear')\n",
    "lr_clf = GridSearchCV(lr,                    # model\n",
    "                   param_grid = parameters,   # hyperparameters\n",
    "                   scoring='accuracy',        # metric for scoring\n",
    "                   cv=10)                     # number of folds\n",
    "lr_clf.fit(x_train_tfv, y_train)"
   ]
  },
  {
   "cell_type": "code",
   "execution_count": 155,
   "metadata": {},
   "outputs": [
    {
     "name": "stdout",
     "output_type": "stream",
     "text": [
      "              precision    recall  f1-score   support\n",
      "\n",
      "           0       0.74      0.93      0.83      2399\n",
      "           1       0.51      0.17      0.26       948\n",
      "\n",
      "    accuracy                           0.72      3347\n",
      "   macro avg       0.62      0.55      0.54      3347\n",
      "weighted avg       0.67      0.72      0.66      3347\n",
      "\n"
     ]
    },
    {
     "data": {
      "image/png": "[encoded data removed]",
      "text/plain": [
       "<Figure size 640x480 with 2 Axes>"
      ]
     },
     "metadata": {},
     "output_type": "display_data"
    }
   ],
   "source": [
    "score_model(lr_clf, x_test_tfv, y_test)"
   ]
  },
  {
   "cell_type": "code",
   "execution_count": 156,
   "metadata": {},
   "outputs": [
    {
     "name": "stdout",
     "output_type": "stream",
     "text": [
      "Best combination of hyperparams:\n",
      " {'C': 1.0, 'penalty': 'l2'} \n",
      "\n",
      "Best mean_test_score score:\n",
      " 0.7221711314357926 \n",
      "\n"
     ]
    }
   ],
   "source": [
    "print(\"Best combination of hyperparams:\\n\", lr_clf.best_params_, \"\\n\")\n",
    "print(\"Best mean_test_score score:\\n\", lr_clf.best_score_, \"\\n\")"
   ]
  },
  {
   "cell_type": "markdown",
   "metadata": {},
   "source": [
    "## 6.) Naive Bayes model"
   ]
  },
  {
   "cell_type": "code",
   "execution_count": 157,
   "metadata": {},
   "outputs": [
    {
     "name": "stdout",
     "output_type": "stream",
     "text": [
      "              precision    recall  f1-score   support\n",
      "\n",
      "           0       0.73      0.97      0.84      2399\n",
      "           1       0.59      0.11      0.18       948\n",
      "\n",
      "    accuracy                           0.73      3347\n",
      "   macro avg       0.66      0.54      0.51      3347\n",
      "weighted avg       0.69      0.73      0.65      3347\n",
      "\n"
     ]
    },
    {
     "data": {
      "image/png": "[encoded data removed]",
      "text/plain": [
       "<Figure size 640x480 with 2 Axes>"
      ]
     },
     "metadata": {},
     "output_type": "display_data"
    }
   ],
   "source": [
    "nb_clf = MultinomialNB()\n",
    "nb_clf.fit(x_train_tfv, y_train)\n",
    "score_model(nb_clf, x_test_tfv, y_test)"
   ]
  },
  {
   "cell_type": "markdown",
   "metadata": {},
   "source": [
    "## 7.) Support Vector Classifier with hyperparameter tuning"
   ]
  },
  {
   "cell_type": "code",
   "execution_count": 158,
   "metadata": {},
   "outputs": [
    {
     "name": "stdout",
     "output_type": "stream",
     "text": [
      "              precision    recall  f1-score   support\n",
      "\n",
      "           0       0.73      0.97      0.83      2399\n",
      "           1       0.58      0.12      0.19       948\n",
      "\n",
      "    accuracy                           0.73      3347\n",
      "   macro avg       0.66      0.54      0.51      3347\n",
      "weighted avg       0.69      0.73      0.65      3347\n",
      "\n"
     ]
    },
    {
     "data": {
      "image/png": "[encoded data removed]",
      "text/plain": [
       "<Figure size 640x480 with 2 Axes>"
      ]
     },
     "metadata": {},
     "output_type": "display_data"
    }
   ],
   "source": [
    "svc_clf = SVC()\n",
    "svc_clf.fit(x_train_tfv, y_train)\n",
    "score_model(svc_clf, x_test_tfv, y_test)"
   ]
  },
  {
   "cell_type": "code",
   "execution_count": 159,
   "metadata": {},
   "outputs": [
    {
     "name": "stdout",
     "output_type": "stream",
     "text": [
      "Fitting 5 folds for each of 32 candidates, totalling 160 fits\n",
      "0.7209772735578686\n",
      "SVC(C=1, gamma=1)\n"
     ]
    }
   ],
   "source": [
    "param_grid = {'C': [0.1,1, 10, 100], 'gamma': [1,0.1,0.01,0.001],'kernel': ['rbf', 'sigmoid']}\n",
    "\n",
    "gd=GridSearchCV(estimator=SVC(),param_grid=param_grid,verbose=True)\n",
    "\n",
    "gd.fit(x_train_tfv, y_train)\n",
    "\n",
    "print(gd.best_score_)\n",
    "print(gd.best_estimator_)"
   ]
  },
  {
   "cell_type": "code",
   "execution_count": 160,
   "metadata": {},
   "outputs": [
    {
     "name": "stdout",
     "output_type": "stream",
     "text": [
      "              precision    recall  f1-score   support\n",
      "\n",
      "           0       0.73      0.97      0.83      2399\n",
      "           1       0.58      0.12      0.19       948\n",
      "\n",
      "    accuracy                           0.73      3347\n",
      "   macro avg       0.66      0.54      0.51      3347\n",
      "weighted avg       0.69      0.73      0.65      3347\n",
      "\n"
     ]
    },
    {
     "data": {
      "image/png": "[encoded data removed]",
      "text/plain": [
       "<Figure size 640x480 with 2 Axes>"
      ]
     },
     "metadata": {},
     "output_type": "display_data"
    }
   ],
   "source": [
    "score_model(gd, x_test_tfv, y_test)\n"
   ]
  },
  {
   "cell_type": "markdown",
   "metadata": {},
   "source": [
    "## 8.) XG Boost Classifier"
   ]
  },
  {
   "cell_type": "code",
   "execution_count": 161,
   "metadata": {},
   "outputs": [
    {
     "name": "stdout",
     "output_type": "stream",
     "text": [
      "[19:05:41] WARNING: C:\\Windows\\Temp\\abs_557yfx631l\\croots\\recipe\\xgboost-split_1659548953302\\work\\src\\learner.cc:1115: Starting in XGBoost 1.3.0, the default evaluation metric used with the objective 'binary:logistic' was changed from 'error' to 'logloss'. Explicitly set eval_metric if you'd like to restore the old behavior.\n",
      "              precision    recall  f1-score   support\n",
      "\n",
      "           0       0.74      0.95      0.83      2399\n",
      "           1       0.54      0.16      0.24       948\n",
      "\n",
      "    accuracy                           0.72      3347\n",
      "   macro avg       0.64      0.55      0.54      3347\n",
      "weighted avg       0.68      0.72      0.66      3347\n",
      "\n"
     ]
    },
    {
     "data": {
      "image/png": "[encoded data removed]",
      "text/plain": [
       "<Figure size 640x480 with 2 Axes>"
      ]
     },
     "metadata": {},
     "output_type": "display_data"
    }
   ],
   "source": [
    "xg_clf = xgb.XGBClassifier(max_depth=7, n_estimators=200, colsample_bytree=0.8, \n",
    "                        subsample=0.8, nthread=10, learning_rate=0.1, use_label_encoder=False)\n",
    "xg_clf.fit(x_train_tfv, y_train)\n",
    "score_model(xg_clf, x_test_tfv, y_test)"
   ]
  },
  {
   "cell_type": "markdown",
   "metadata": {},
   "source": [
    "## 9.) Random Forest Classifier"
   ]
  },
  {
   "cell_type": "code",
   "execution_count": 162,
   "metadata": {},
   "outputs": [
    {
     "data": {
      "text/html": [
       "<style>#sk-container-id-6 {color: black;background-color: white;}#sk-container-id-6 pre{padding: 0;}#sk-container-id-6 div.sk-toggleable {background-color: white;}#sk-container-id-6 label.sk-toggleable__label {cursor: pointer;display: block;width: 100%;margin-bottom: 0;padding: 0.3em;box-sizing: border-box;text-align: center;}#sk-container-id-6 label.sk-toggleable__label-arrow:before {content: \"▸\";float: left;margin-right: 0.25em;color: #696969;}#sk-container-id-6 label.sk-toggleable__label-arrow:hover:before {color: black;}#sk-container-id-6 div.sk-estimator:hover label.sk-toggleable__label-arrow:before {color: black;}#sk-container-id-6 div.sk-toggleable__content {max-height: 0;max-width: 0;overflow: hidden;text-align: left;background-color: #f0f8ff;}#sk-container-id-6 div.sk-toggleable__content pre {margin: 0.2em;color: black;border-radius: 0.25em;background-color: #f0f8ff;}#sk-container-id-6 input.sk-toggleable__control:checked~div.sk-toggleable__content {max-height: 200px;max-width: 100%;overflow: auto;}#sk-container-id-6 input.sk-toggleable__control:checked~label.sk-toggleable__label-arrow:before {content: \"▾\";}#sk-container-id-6 div.sk-estimator input.sk-toggleable__control:checked~label.sk-toggleable__label {background-color: #d4ebff;}#sk-container-id-6 div.sk-label input.sk-toggleable__control:checked~label.sk-toggleable__label {background-color: #d4ebff;}#sk-container-id-6 input.sk-hidden--visually {border: 0;clip: rect(1px 1px 1px 1px);clip: rect(1px, 1px, 1px, 1px);height: 1px;margin: -1px;overflow: hidden;padding: 0;position: absolute;width: 1px;}#sk-container-id-6 div.sk-estimator {font-family: monospace;background-color: #f0f8ff;border: 1px dotted black;border-radius: 0.25em;box-sizing: border-box;margin-bottom: 0.5em;}#sk-container-id-6 div.sk-estimator:hover {background-color: #d4ebff;}#sk-container-id-6 div.sk-parallel-item::after {content: \"\";width: 100%;border-bottom: 1px solid gray;flex-grow: 1;}#sk-container-id-6 div.sk-label:hover label.sk-toggleable__label {background-color: #d4ebff;}#sk-container-id-6 div.sk-serial::before {content: \"\";position: absolute;border-left: 1px solid gray;box-sizing: border-box;top: 0;bottom: 0;left: 50%;z-index: 0;}#sk-container-id-6 div.sk-serial {display: flex;flex-direction: column;align-items: center;background-color: white;padding-right: 0.2em;padding-left: 0.2em;position: relative;}#sk-container-id-6 div.sk-item {position: relative;z-index: 1;}#sk-container-id-6 div.sk-parallel {display: flex;align-items: stretch;justify-content: center;background-color: white;position: relative;}#sk-container-id-6 div.sk-item::before, #sk-container-id-6 div.sk-parallel-item::before {content: \"\";position: absolute;border-left: 1px solid gray;box-sizing: border-box;top: 0;bottom: 0;left: 50%;z-index: -1;}#sk-container-id-6 div.sk-parallel-item {display: flex;flex-direction: column;z-index: 1;position: relative;background-color: white;}#sk-container-id-6 div.sk-parallel-item:first-child::after {align-self: flex-end;width: 50%;}#sk-container-id-6 div.sk-parallel-item:last-child::after {align-self: flex-start;width: 50%;}#sk-container-id-6 div.sk-parallel-item:only-child::after {width: 0;}#sk-container-id-6 div.sk-dashed-wrapped {border: 1px dashed gray;margin: 0 0.4em 0.5em 0.4em;box-sizing: border-box;padding-bottom: 0.4em;background-color: white;}#sk-container-id-6 div.sk-label label {font-family: monospace;font-weight: bold;display: inline-block;line-height: 1.2em;}#sk-container-id-6 div.sk-label-container {text-align: center;}#sk-container-id-6 div.sk-container {/* jupyter's `normalize.less` sets `[hidden] { display: none; }` but bootstrap.min.css set `[hidden] { display: none !important; }` so we also need the `!important` here to be able to override the default hidden behavior on the sphinx rendered scikit-learn.org. See: https://github.com/scikit-learn/scikit-learn/issues/21755 */display: inline-block !important;position: relative;}#sk-container-id-6 div.sk-text-repr-fallback {display: none;}</style><div id=\"sk-container-id-6\" class=\"sk-top-container\"><div class=\"sk-text-repr-fallback\"><pre>GridSearchCV(cv=10, estimator=RandomForestClassifier(random_state=42),\n",
       "             param_grid={&#x27;criterion&#x27;: [&#x27;gini&#x27;, &#x27;entropy&#x27;],\n",
       "                         &#x27;max_depth&#x27;: [5, 50, 75, 100],\n",
       "                         &#x27;min_samples_split&#x27;: [12, 16, 20]},\n",
       "             scoring=&#x27;accuracy&#x27;)</pre><b>In a Jupyter environment, please rerun this cell to show the HTML representation or trust the notebook. <br />On GitHub, the HTML representation is unable to render, please try loading this page with nbviewer.org.</b></div><div class=\"sk-container\" hidden><div class=\"sk-item sk-dashed-wrapped\"><div class=\"sk-label-container\"><div class=\"sk-label sk-toggleable\"><input class=\"sk-toggleable__control sk-hidden--visually\" id=\"sk-estimator-id-16\" type=\"checkbox\" ><label for=\"sk-estimator-id-16\" class=\"sk-toggleable__label sk-toggleable__label-arrow\">GridSearchCV</label><div class=\"sk-toggleable__content\"><pre>GridSearchCV(cv=10, estimator=RandomForestClassifier(random_state=42),\n",
       "             param_grid={&#x27;criterion&#x27;: [&#x27;gini&#x27;, &#x27;entropy&#x27;],\n",
       "                         &#x27;max_depth&#x27;: [5, 50, 75, 100],\n",
       "                         &#x27;min_samples_split&#x27;: [12, 16, 20]},\n",
       "             scoring=&#x27;accuracy&#x27;)</pre></div></div></div><div class=\"sk-parallel\"><div class=\"sk-parallel-item\"><div class=\"sk-item\"><div class=\"sk-label-container\"><div class=\"sk-label sk-toggleable\"><input class=\"sk-toggleable__control sk-hidden--visually\" id=\"sk-estimator-id-17\" type=\"checkbox\" ><label for=\"sk-estimator-id-17\" class=\"sk-toggleable__label sk-toggleable__label-arrow\">estimator: RandomForestClassifier</label><div class=\"sk-toggleable__content\"><pre>RandomForestClassifier(random_state=42)</pre></div></div></div><div class=\"sk-serial\"><div class=\"sk-item\"><div class=\"sk-estimator sk-toggleable\"><input class=\"sk-toggleable__control sk-hidden--visually\" id=\"sk-estimator-id-18\" type=\"checkbox\" ><label for=\"sk-estimator-id-18\" class=\"sk-toggleable__label sk-toggleable__label-arrow\">RandomForestClassifier</label><div class=\"sk-toggleable__content\"><pre>RandomForestClassifier(random_state=42)</pre></div></div></div></div></div></div></div></div></div></div>"
      ],
      "text/plain": [
       "GridSearchCV(cv=10, estimator=RandomForestClassifier(random_state=42),\n",
       "             param_grid={'criterion': ['gini', 'entropy'],\n",
       "                         'max_depth': [5, 50, 75, 100],\n",
       "                         'min_samples_split': [12, 16, 20]},\n",
       "             scoring='accuracy')"
      ]
     },
     "execution_count": 162,
     "metadata": {},
     "output_type": "execute_result"
    }
   ],
   "source": [
    "rf = RandomForestClassifier(random_state=42)\n",
    "grid_rf = {\n",
    "    \"max_depth\": [5, 50, 75, 100],\n",
    "    'min_samples_split': [12, 16, 20],\n",
    "    'criterion': ['gini', 'entropy']\n",
    "}\n",
    "rf_grid = GridSearchCV(estimator = rf,      # model\n",
    "                   param_grid = grid_rf,   # hyperparameters\n",
    "                   scoring='accuracy',        # metric for scoring\n",
    "                   cv=10)                     # number of folds\n",
    "rf_grid.fit(x_train_tfv, y_train)"
   ]
  },
  {
   "cell_type": "code",
   "execution_count": 163,
   "metadata": {},
   "outputs": [
    {
     "name": "stdout",
     "output_type": "stream",
     "text": [
      "              precision    recall  f1-score   support\n",
      "\n",
      "           0       0.73      0.99      0.84      2399\n",
      "           1       0.62      0.05      0.10       948\n",
      "\n",
      "    accuracy                           0.72      3347\n",
      "   macro avg       0.67      0.52      0.47      3347\n",
      "weighted avg       0.69      0.72      0.63      3347\n",
      "\n"
     ]
    },
    {
     "data": {
      "image/png": "[encoded data removed]",
      "text/plain": [
       "<Figure size 640x480 with 2 Axes>"
      ]
     },
     "metadata": {},
     "output_type": "display_data"
    }
   ],
   "source": [
    "score_model(rf_grid, x_test_tfv, y_test)"
   ]
  },
  {
   "cell_type": "markdown",
   "metadata": {},
   "source": [
    "## 10.) Deep Learning\n",
    "\n",
    "Simple implementation of deep neural net"
   ]
  },
  {
   "cell_type": "code",
   "execution_count": 164,
   "metadata": {},
   "outputs": [],
   "source": [
    "dnn_model = Sequential()\n",
    "\n",
    "dnn_model.add(Dense(64, input_dim=11296, activation='relu'))\n",
    "dnn_model.add(Dropout(0.2))\n",
    "\n",
    "dnn_model.add(Dense(64, activation='relu'))\n",
    "dnn_model.add(Dropout(0.3))\n",
    "\n",
    "dnn_model.add(Dense(1))\n",
    "dnn_model.add(Activation('sigmoid'))\n",
    "\n",
    "# compile the model\n",
    "dnn_model.compile(loss='binary_crossentropy', optimizer='adam', metrics = [\"accuracy\"])"
   ]
  },
  {
   "cell_type": "code",
   "execution_count": 165,
   "metadata": {},
   "outputs": [
    {
     "name": "stdout",
     "output_type": "stream",
     "text": [
      "Model: \"sequential_34\"\n",
      "_________________________________________________________________\n",
      " Layer (type)                Output Shape              Param #   \n",
      "=================================================================\n",
      " dense_60 (Dense)            (None, 64)                723008    \n",
      "                                                                 \n",
      " dropout_29 (Dropout)        (None, 64)                0         \n",
      "                                                                 \n",
      " dense_61 (Dense)            (None, 64)                4160      \n",
      "                                                                 \n",
      " dropout_30 (Dropout)        (None, 64)                0         \n",
      "                                                                 \n",
      " dense_62 (Dense)            (None, 1)                 65        \n",
      "                                                                 \n",
      " activation_26 (Activation)  (None, 1)                 0         \n",
      "                                                                 \n",
      "=================================================================\n",
      "Total params: 727,233\n",
      "Trainable params: 727,233\n",
      "Non-trainable params: 0\n",
      "_________________________________________________________________\n"
     ]
    }
   ],
   "source": [
    "dnn_model.summary()"
   ]
  },
  {
   "cell_type": "code",
   "execution_count": 166,
   "metadata": {},
   "outputs": [
    {
     "name": "stdout",
     "output_type": "stream",
     "text": [
      "Epoch 1/100\n",
      "27/27 [==============================] - 3s 57ms/step - loss: 0.6441 - accuracy: 0.7110 - val_loss: 0.5877 - val_accuracy: 0.7168\n",
      "Epoch 2/100\n",
      "27/27 [==============================] - 1s 42ms/step - loss: 0.5609 - accuracy: 0.7152 - val_loss: 0.5610 - val_accuracy: 0.7168\n",
      "Epoch 3/100\n",
      "27/27 [==============================] - 1s 30ms/step - loss: 0.5034 - accuracy: 0.7152 - val_loss: 0.5471 - val_accuracy: 0.7168\n",
      "Epoch 4/100\n",
      "27/27 [==============================] - 1s 28ms/step - loss: 0.4428 - accuracy: 0.7559 - val_loss: 0.5596 - val_accuracy: 0.7221\n",
      "Epoch 5/100\n",
      "27/27 [==============================] - 1s 32ms/step - loss: 0.3730 - accuracy: 0.8403 - val_loss: 0.6049 - val_accuracy: 0.7006\n",
      "Epoch 6/100\n",
      "27/27 [==============================] - 1s 29ms/step - loss: 0.3016 - accuracy: 0.8855 - val_loss: 0.6856 - val_accuracy: 0.6917\n"
     ]
    }
   ],
   "source": [
    "earlystop = EarlyStopping(monitor='val_loss', min_delta=0, patience=3, verbose=0, mode='auto')\n",
    "dnn = dnn_model.fit(x_train_tfv.toarray(), y=y_train, batch_size=512, epochs=100, verbose=1, validation_data=(x_test_tfv.toarray(), y_test), callbacks=[earlystop])"
   ]
  },
  {
   "cell_type": "markdown",
   "metadata": {},
   "source": [
    "## 11.) Word tokenizer and GloVe for word embedding"
   ]
  },
  {
   "cell_type": "code",
   "execution_count": 6,
   "metadata": {},
   "outputs": [],
   "source": [
    "token = text.Tokenizer(num_words=None)\n",
    "max_len = 70\n",
    "\n",
    "token.fit_on_texts(x_train)\n",
    "x_train_seq = token.texts_to_sequences(x_train)\n",
    "x_test_seq = token.texts_to_sequences(x_test)\n",
    "\n",
    "# zero pad the sequences\n",
    "x_train_pad = pad_sequences(x_train_seq, maxlen=max_len)\n",
    "x_test_pad = pad_sequences(x_test_seq, maxlen=max_len)\n",
    "\n",
    "word_index = token.word_index"
   ]
  },
  {
   "cell_type": "code",
   "execution_count": 7,
   "metadata": {},
   "outputs": [
    {
     "name": "stderr",
     "output_type": "stream",
     "text": [
      "2196017it [03:27, 10583.52it/s]\n"
     ]
    }
   ],
   "source": [
    "embeddings_index = {}\n",
    "f = open('glove.840B.300d.txt', encoding =\"utf8\")\n",
    "for line in tqdm(f):\n",
    "    values = line.split()\n",
    "    word = values[0]\n",
    "    try:\n",
    "        coefs = np.asarray(values[1:], dtype='float32')\n",
    "        embeddings_index[word] = coefs\n",
    "    except ValueError:\n",
    "        pass\n",
    "    embeddings_index[word] = coefs\n",
    "f.close()"
   ]
  },
  {
   "cell_type": "code",
   "execution_count": 8,
   "metadata": {},
   "outputs": [
    {
     "name": "stderr",
     "output_type": "stream",
     "text": [
      "100%|██████████| 16571/16571 [00:00<00:00, 376926.89it/s]\n"
     ]
    }
   ],
   "source": [
    "embedding_matrix = np.zeros((len(word_index) + 1, 300))\n",
    "for word, i in tqdm(word_index.items()):\n",
    "    embedding_vector = embeddings_index.get(word)\n",
    "    if embedding_vector is not None:\n",
    "        embedding_matrix[i] = embedding_vector"
   ]
  },
  {
   "cell_type": "markdown",
   "metadata": {},
   "source": [
    "## 12.) LSTM Model"
   ]
  },
  {
   "cell_type": "code",
   "execution_count": 9,
   "metadata": {},
   "outputs": [],
   "source": [
    "lstm_model = Sequential()\n",
    "lstm_model.add(tf.keras.layers.Embedding(16572,\n",
    "                    300,\n",
    "                    weights=[embedding_matrix],\n",
    "                    input_length=max_len,\n",
    "                    trainable=False))\n",
    "lstm_model.add(SpatialDropout1D(0.3))\n",
    "lstm_model.add(tf.keras.layers.LSTM(64, dropout=0.3, recurrent_dropout=0.3, return_sequences = True, activation='tanh'))\n",
    "lstm_model.add(Dense(300))\n",
    "\n",
    "lstm_model.add(Dense(1))\n",
    "lstm_model.add(Activation('sigmoid'))\n",
    "lstm_model.compile(loss=tf.keras.losses.BinaryCrossentropy(), optimizer='adam', metrics = ['accuracy'])"
   ]
  },
  {
   "cell_type": "code",
   "execution_count": 10,
   "metadata": {},
   "outputs": [
    {
     "name": "stdout",
     "output_type": "stream",
     "text": [
      "Model: \"sequential\"\n",
      "_________________________________________________________________\n",
      " Layer (type)                Output Shape              Param #   \n",
      "=================================================================\n",
      " embedding (Embedding)       (None, 70, 300)           4971600   \n",
      "                                                                 \n",
      " spatial_dropout1d (SpatialD  (None, 70, 300)          0         \n",
      " ropout1D)                                                       \n",
      "                                                                 \n",
      " lstm (LSTM)                 (None, 70, 64)            93440     \n",
      "                                                                 \n",
      " dense (Dense)               (None, 70, 300)           19500     \n",
      "                                                                 \n",
      " dense_1 (Dense)             (None, 70, 1)             301       \n",
      "                                                                 \n",
      " activation (Activation)     (None, 70, 1)             0         \n",
      "                                                                 \n",
      "=================================================================\n",
      "Total params: 5,084,841\n",
      "Trainable params: 113,241\n",
      "Non-trainable params: 4,971,600\n",
      "_________________________________________________________________\n"
     ]
    }
   ],
   "source": [
    "lstm_model.summary()"
   ]
  },
  {
   "cell_type": "code",
   "execution_count": 11,
   "metadata": {},
   "outputs": [
    {
     "name": "stdout",
     "output_type": "stream",
     "text": [
      "Epoch 1/100\n",
      "27/27 [==============================] - 23s 708ms/step - loss: 0.6273 - accuracy: 0.7118 - val_loss: 0.5952 - val_accuracy: 0.7160\n",
      "Epoch 2/100\n",
      "27/27 [==============================] - 18s 658ms/step - loss: 0.5957 - accuracy: 0.7153 - val_loss: 0.5953 - val_accuracy: 0.7168\n",
      "Epoch 3/100\n",
      "27/27 [==============================] - 18s 658ms/step - loss: 0.5946 - accuracy: 0.7153 - val_loss: 0.5925 - val_accuracy: 0.7169\n",
      "Epoch 4/100\n",
      "27/27 [==============================] - 18s 686ms/step - loss: 0.5937 - accuracy: 0.7155 - val_loss: 0.5920 - val_accuracy: 0.7171\n",
      "Epoch 5/100\n",
      "27/27 [==============================] - 18s 673ms/step - loss: 0.5932 - accuracy: 0.7156 - val_loss: 0.5915 - val_accuracy: 0.7171\n",
      "Epoch 6/100\n",
      "27/27 [==============================] - 20s 760ms/step - loss: 0.5927 - accuracy: 0.7156 - val_loss: 0.5913 - val_accuracy: 0.7170\n",
      "Epoch 7/100\n",
      "27/27 [==============================] - 39s 1s/step - loss: 0.5925 - accuracy: 0.7157 - val_loss: 0.5910 - val_accuracy: 0.7169\n",
      "Epoch 8/100\n",
      "27/27 [==============================] - 36s 1s/step - loss: 0.5921 - accuracy: 0.7159 - val_loss: 0.5905 - val_accuracy: 0.7172\n",
      "Epoch 9/100\n",
      "27/27 [==============================] - 20s 735ms/step - loss: 0.5915 - accuracy: 0.7162 - val_loss: 0.5905 - val_accuracy: 0.7170\n",
      "Epoch 10/100\n",
      "27/27 [==============================] - 21s 775ms/step - loss: 0.5927 - accuracy: 0.7160 - val_loss: 0.5911 - val_accuracy: 0.7171\n",
      "Epoch 11/100\n",
      "27/27 [==============================] - 20s 743ms/step - loss: 0.5919 - accuracy: 0.7160 - val_loss: 0.5908 - val_accuracy: 0.7173\n",
      "Epoch 12/100\n",
      "27/27 [==============================] - 28s 1s/step - loss: 0.5910 - accuracy: 0.7163 - val_loss: 0.5907 - val_accuracy: 0.7174\n"
     ]
    }
   ],
   "source": [
    "earlystop = EarlyStopping(monitor='val_loss', min_delta=0, patience=3, verbose=0, mode='auto')\n",
    "lstm = lstm_model.fit(x_train_pad, y=y_train, batch_size=512, epochs=100, verbose=1, validation_data=(x_test_pad, y_test), callbacks=[earlystop])"
   ]
  },
  {
   "cell_type": "markdown",
   "metadata": {},
   "source": [
    "## 13.) GRU Model"
   ]
  },
  {
   "cell_type": "code",
   "execution_count": 173,
   "metadata": {},
   "outputs": [
    {
     "name": "stdout",
     "output_type": "stream",
     "text": [
      "Epoch 1/100\n",
      "27/27 [==============================] - 29s 756ms/step - loss: 0.6449 - accuracy: 0.7085 - val_loss: 0.6007 - val_accuracy: 0.7162\n",
      "Epoch 2/100\n",
      "27/27 [==============================] - 20s 742ms/step - loss: 0.5988 - accuracy: 0.7136 - val_loss: 0.5941 - val_accuracy: 0.7170\n",
      "Epoch 3/100\n",
      "27/27 [==============================] - 20s 745ms/step - loss: 0.5963 - accuracy: 0.7150 - val_loss: 0.5933 - val_accuracy: 0.7168\n",
      "Epoch 4/100\n",
      "27/27 [==============================] - 21s 765ms/step - loss: 0.5952 - accuracy: 0.7149 - val_loss: 0.5934 - val_accuracy: 0.7170\n",
      "Epoch 5/100\n",
      "27/27 [==============================] - 20s 752ms/step - loss: 0.5945 - accuracy: 0.7153 - val_loss: 0.5925 - val_accuracy: 0.7169\n",
      "Epoch 6/100\n",
      "27/27 [==============================] - 20s 759ms/step - loss: 0.5944 - accuracy: 0.7151 - val_loss: 0.5924 - val_accuracy: 0.7170\n",
      "Epoch 7/100\n",
      "27/27 [==============================] - 20s 743ms/step - loss: 0.5940 - accuracy: 0.7153 - val_loss: 0.5924 - val_accuracy: 0.7168\n",
      "Epoch 8/100\n",
      "27/27 [==============================] - 20s 743ms/step - loss: 0.5939 - accuracy: 0.7153 - val_loss: 0.5921 - val_accuracy: 0.7171\n",
      "Epoch 9/100\n",
      "27/27 [==============================] - 20s 756ms/step - loss: 0.5934 - accuracy: 0.7157 - val_loss: 0.5919 - val_accuracy: 0.7169\n",
      "Epoch 10/100\n",
      "27/27 [==============================] - 20s 747ms/step - loss: 0.5929 - accuracy: 0.7158 - val_loss: 0.5918 - val_accuracy: 0.7170\n",
      "Epoch 11/100\n",
      "27/27 [==============================] - 20s 741ms/step - loss: 0.5930 - accuracy: 0.7157 - val_loss: 0.5917 - val_accuracy: 0.7171\n",
      "Epoch 12/100\n",
      "27/27 [==============================] - 20s 756ms/step - loss: 0.5928 - accuracy: 0.7157 - val_loss: 0.5914 - val_accuracy: 0.7171\n",
      "Epoch 13/100\n",
      "27/27 [==============================] - 20s 747ms/step - loss: 0.5921 - accuracy: 0.7158 - val_loss: 0.5911 - val_accuracy: 0.7170\n",
      "Epoch 14/100\n",
      "27/27 [==============================] - 20s 755ms/step - loss: 0.5921 - accuracy: 0.7160 - val_loss: 0.5909 - val_accuracy: 0.7171\n",
      "Epoch 15/100\n",
      "27/27 [==============================] - 20s 747ms/step - loss: 0.5918 - accuracy: 0.7162 - val_loss: 0.5913 - val_accuracy: 0.7172\n",
      "Epoch 16/100\n",
      "27/27 [==============================] - 20s 739ms/step - loss: 0.5921 - accuracy: 0.7159 - val_loss: 0.5909 - val_accuracy: 0.7174\n",
      "Epoch 17/100\n",
      "27/27 [==============================] - 20s 762ms/step - loss: 0.5916 - accuracy: 0.7161 - val_loss: 0.5907 - val_accuracy: 0.7174\n",
      "Epoch 18/100\n",
      "27/27 [==============================] - 21s 762ms/step - loss: 0.5911 - accuracy: 0.7164 - val_loss: 0.5905 - val_accuracy: 0.7174\n",
      "Epoch 19/100\n",
      "27/27 [==============================] - 20s 743ms/step - loss: 0.5910 - accuracy: 0.7161 - val_loss: 0.5905 - val_accuracy: 0.7173\n",
      "Epoch 20/100\n",
      "27/27 [==============================] - 20s 757ms/step - loss: 0.5908 - accuracy: 0.7165 - val_loss: 0.5906 - val_accuracy: 0.7174\n",
      "Epoch 21/100\n",
      "27/27 [==============================] - 21s 765ms/step - loss: 0.5907 - accuracy: 0.7163 - val_loss: 0.5902 - val_accuracy: 0.7174\n",
      "Epoch 22/100\n",
      "27/27 [==============================] - 21s 770ms/step - loss: 0.5900 - accuracy: 0.7169 - val_loss: 0.5905 - val_accuracy: 0.7174\n",
      "Epoch 23/100\n",
      "27/27 [==============================] - 20s 755ms/step - loss: 0.5902 - accuracy: 0.7164 - val_loss: 0.5904 - val_accuracy: 0.7172\n",
      "Epoch 24/100\n",
      "27/27 [==============================] - 20s 753ms/step - loss: 0.5901 - accuracy: 0.7166 - val_loss: 0.5900 - val_accuracy: 0.7174\n",
      "Epoch 25/100\n",
      "27/27 [==============================] - 20s 745ms/step - loss: 0.5896 - accuracy: 0.7171 - val_loss: 0.5903 - val_accuracy: 0.7175\n",
      "Epoch 26/100\n",
      "27/27 [==============================] - 20s 739ms/step - loss: 0.5897 - accuracy: 0.7169 - val_loss: 0.5899 - val_accuracy: 0.7174\n",
      "Epoch 27/100\n",
      "27/27 [==============================] - 20s 749ms/step - loss: 0.5893 - accuracy: 0.7169 - val_loss: 0.5899 - val_accuracy: 0.7172\n",
      "Epoch 28/100\n",
      "27/27 [==============================] - 21s 765ms/step - loss: 0.5887 - accuracy: 0.7173 - val_loss: 0.5902 - val_accuracy: 0.7173\n",
      "Epoch 29/100\n",
      "27/27 [==============================] - 20s 737ms/step - loss: 0.5887 - accuracy: 0.7171 - val_loss: 0.5902 - val_accuracy: 0.7169\n"
     ]
    }
   ],
   "source": [
    "gru_model = Sequential()\n",
    "gru_model.add(tf.keras.layers.Embedding(16572,\n",
    "                    300,\n",
    "                    weights=[embedding_matrix],\n",
    "                    input_length=max_len,\n",
    "                    trainable=False))\n",
    "gru_model.add(SpatialDropout1D(0.3))\n",
    "gru_model.add(tf.keras.layers.GRU(32, dropout=0.3, recurrent_dropout=0.3, return_sequences=True))\n",
    "gru_model.add(Dense(10))\n",
    "\n",
    "gru_model.add(Dense(1))\n",
    "gru_model.add(Activation('sigmoid'))\n",
    "gru_model.compile(loss='binary_crossentropy', optimizer='adam', metrics = [\"accuracy\"])\n",
    "\n",
    "# Fit the model with early stopping callback\n",
    "earlystop = EarlyStopping(monitor='val_loss', min_delta=0, patience=3, verbose=0, mode='auto')\n",
    "gru = gru_model.fit(x_train_pad, y=y_train, batch_size=512, epochs=100, \n",
    "          verbose=1, validation_data=(x_test_pad, y_test), callbacks=[earlystop])"
   ]
  },
  {
   "cell_type": "code",
   "execution_count": 174,
   "metadata": {},
   "outputs": [
    {
     "data": {
      "text/plain": [
       "<bound method Model.summary of <keras.engine.sequential.Sequential object at 0x000001DB9B316BB0>>"
      ]
     },
     "execution_count": 174,
     "metadata": {},
     "output_type": "execute_result"
    }
   ],
   "source": [
    "gru_model.summary"
   ]
  },
  {
   "cell_type": "markdown",
   "metadata": {},
   "source": [
    "## 14.) Convolution Neural Net"
   ]
  },
  {
   "cell_type": "code",
   "execution_count": 15,
   "metadata": {},
   "outputs": [
    {
     "name": "stdout",
     "output_type": "stream",
     "text": [
      "Epoch 1/100\n",
      "27/27 [==============================] - 3s 74ms/step - loss: 0.5881 - accuracy: 0.7079 - val_loss: 0.5708 - val_accuracy: 0.7165\n",
      "Epoch 2/100\n",
      "27/27 [==============================] - 2s 61ms/step - loss: 0.5458 - accuracy: 0.7226 - val_loss: 0.5558 - val_accuracy: 0.7177\n",
      "Epoch 3/100\n",
      "27/27 [==============================] - 2s 71ms/step - loss: 0.5197 - accuracy: 0.7388 - val_loss: 0.5535 - val_accuracy: 0.7177\n",
      "Epoch 4/100\n",
      "27/27 [==============================] - 2s 61ms/step - loss: 0.4870 - accuracy: 0.7576 - val_loss: 0.5640 - val_accuracy: 0.7033\n",
      "Epoch 5/100\n",
      "27/27 [==============================] - 2s 62ms/step - loss: 0.4449 - accuracy: 0.7860 - val_loss: 0.5838 - val_accuracy: 0.7084\n",
      "Epoch 6/100\n",
      "27/27 [==============================] - 2s 61ms/step - loss: 0.3999 - accuracy: 0.8110 - val_loss: 0.6220 - val_accuracy: 0.7096\n"
     ]
    }
   ],
   "source": [
    "cnn_model = Sequential()\n",
    "cnn_model.add(tf.keras.layers.Embedding(16572,\n",
    "                    300,\n",
    "                    weights=[embedding_matrix],\n",
    "                    input_length=max_len,\n",
    "                    trainable=False))\n",
    "cnn_model.add(Conv1D(32, 3, padding='same', activation='relu'))\n",
    "cnn_model.add(MaxPooling1D())\n",
    "cnn_model.add(Flatten())\n",
    "cnn_model.add(Dense(300, activation='relu'))\n",
    "cnn_model.add(Dense(1, activation='sigmoid'))\n",
    "cnn_model.compile(loss='binary_crossentropy', optimizer='adam', metrics = [\"accuracy\"])\n",
    "\n",
    "earlystop = EarlyStopping(monitor='val_loss', min_delta=0, patience=3, verbose=0, mode='auto')\n",
    "cnn = cnn_model.fit(x_train_pad, y=y_train, batch_size=512, epochs=100, \n",
    "          verbose=1, validation_data=(x_test_pad, y_test), callbacks=[earlystop])  "
   ]
  },
  {
   "cell_type": "markdown",
   "metadata": {},
   "source": [
    "## 15.) Stacking Classifier"
   ]
  },
  {
   "cell_type": "code",
   "execution_count": 178,
   "metadata": {},
   "outputs": [
    {
     "data": {
      "text/html": [
       "<style>#sk-container-id-7 {color: black;background-color: white;}#sk-container-id-7 pre{padding: 0;}#sk-container-id-7 div.sk-toggleable {background-color: white;}#sk-container-id-7 label.sk-toggleable__label {cursor: pointer;display: block;width: 100%;margin-bottom: 0;padding: 0.3em;box-sizing: border-box;text-align: center;}#sk-container-id-7 label.sk-toggleable__label-arrow:before {content: \"▸\";float: left;margin-right: 0.25em;color: #696969;}#sk-container-id-7 label.sk-toggleable__label-arrow:hover:before {color: black;}#sk-container-id-7 div.sk-estimator:hover label.sk-toggleable__label-arrow:before {color: black;}#sk-container-id-7 div.sk-toggleable__content {max-height: 0;max-width: 0;overflow: hidden;text-align: left;background-color: #f0f8ff;}#sk-container-id-7 div.sk-toggleable__content pre {margin: 0.2em;color: black;border-radius: 0.25em;background-color: #f0f8ff;}#sk-container-id-7 input.sk-toggleable__control:checked~div.sk-toggleable__content {max-height: 200px;max-width: 100%;overflow: auto;}#sk-container-id-7 input.sk-toggleable__control:checked~label.sk-toggleable__label-arrow:before {content: \"▾\";}#sk-container-id-7 div.sk-estimator input.sk-toggleable__control:checked~label.sk-toggleable__label {background-color: #d4ebff;}#sk-container-id-7 div.sk-label input.sk-toggleable__control:checked~label.sk-toggleable__label {background-color: #d4ebff;}#sk-container-id-7 input.sk-hidden--visually {border: 0;clip: rect(1px 1px 1px 1px);clip: rect(1px, 1px, 1px, 1px);height: 1px;margin: -1px;overflow: hidden;padding: 0;position: absolute;width: 1px;}#sk-container-id-7 div.sk-estimator {font-family: monospace;background-color: #f0f8ff;border: 1px dotted black;border-radius: 0.25em;box-sizing: border-box;margin-bottom: 0.5em;}#sk-container-id-7 div.sk-estimator:hover {background-color: #d4ebff;}#sk-container-id-7 div.sk-parallel-item::after {content: \"\";width: 100%;border-bottom: 1px solid gray;flex-grow: 1;}#sk-container-id-7 div.sk-label:hover label.sk-toggleable__label {background-color: #d4ebff;}#sk-container-id-7 div.sk-serial::before {content: \"\";position: absolute;border-left: 1px solid gray;box-sizing: border-box;top: 0;bottom: 0;left: 50%;z-index: 0;}#sk-container-id-7 div.sk-serial {display: flex;flex-direction: column;align-items: center;background-color: white;padding-right: 0.2em;padding-left: 0.2em;position: relative;}#sk-container-id-7 div.sk-item {position: relative;z-index: 1;}#sk-container-id-7 div.sk-parallel {display: flex;align-items: stretch;justify-content: center;background-color: white;position: relative;}#sk-container-id-7 div.sk-item::before, #sk-container-id-7 div.sk-parallel-item::before {content: \"\";position: absolute;border-left: 1px solid gray;box-sizing: border-box;top: 0;bottom: 0;left: 50%;z-index: -1;}#sk-container-id-7 div.sk-parallel-item {display: flex;flex-direction: column;z-index: 1;position: relative;background-color: white;}#sk-container-id-7 div.sk-parallel-item:first-child::after {align-self: flex-end;width: 50%;}#sk-container-id-7 div.sk-parallel-item:last-child::after {align-self: flex-start;width: 50%;}#sk-container-id-7 div.sk-parallel-item:only-child::after {width: 0;}#sk-container-id-7 div.sk-dashed-wrapped {border: 1px dashed gray;margin: 0 0.4em 0.5em 0.4em;box-sizing: border-box;padding-bottom: 0.4em;background-color: white;}#sk-container-id-7 div.sk-label label {font-family: monospace;font-weight: bold;display: inline-block;line-height: 1.2em;}#sk-container-id-7 div.sk-label-container {text-align: center;}#sk-container-id-7 div.sk-container {/* jupyter's `normalize.less` sets `[hidden] { display: none; }` but bootstrap.min.css set `[hidden] { display: none !important; }` so we also need the `!important` here to be able to override the default hidden behavior on the sphinx rendered scikit-learn.org. See: https://github.com/scikit-learn/scikit-learn/issues/21755 */display: inline-block !important;position: relative;}#sk-container-id-7 div.sk-text-repr-fallback {display: none;}</style><div id=\"sk-container-id-7\" class=\"sk-top-container\"><div class=\"sk-text-repr-fallback\"><pre>StackingClassifier(estimators=[(&#x27;Logistic Regression&#x27;,\n",
       "                                GridSearchCV(cv=10,\n",
       "                                             estimator=LogisticRegression(max_iter=10000,\n",
       "                                                                          solver=&#x27;liblinear&#x27;),\n",
       "                                             param_grid={&#x27;C&#x27;: array([1.e-03, 1.e-02, 1.e-01, 1.e+00, 1.e+01, 1.e+02, 1.e+03]),\n",
       "                                                         &#x27;penalty&#x27;: [&#x27;l1&#x27;,\n",
       "                                                                     &#x27;l2&#x27;]},\n",
       "                                             scoring=&#x27;accuracy&#x27;)),\n",
       "                               (&#x27;Naive Bayes&#x27;, MultinomialNB()),\n",
       "                               (&#x27;Support Vector Classifier&#x27;, SVC())],\n",
       "                   final_estimator=LogisticRegression())</pre><b>In a Jupyter environment, please rerun this cell to show the HTML representation or trust the notebook. <br />On GitHub, the HTML representation is unable to render, please try loading this page with nbviewer.org.</b></div><div class=\"sk-container\" hidden><div class=\"sk-item sk-dashed-wrapped\"><div class=\"sk-label-container\"><div class=\"sk-label sk-toggleable\"><input class=\"sk-toggleable__control sk-hidden--visually\" id=\"sk-estimator-id-19\" type=\"checkbox\" ><label for=\"sk-estimator-id-19\" class=\"sk-toggleable__label sk-toggleable__label-arrow\">StackingClassifier</label><div class=\"sk-toggleable__content\"><pre>StackingClassifier(estimators=[(&#x27;Logistic Regression&#x27;,\n",
       "                                GridSearchCV(cv=10,\n",
       "                                             estimator=LogisticRegression(max_iter=10000,\n",
       "                                                                          solver=&#x27;liblinear&#x27;),\n",
       "                                             param_grid={&#x27;C&#x27;: array([1.e-03, 1.e-02, 1.e-01, 1.e+00, 1.e+01, 1.e+02, 1.e+03]),\n",
       "                                                         &#x27;penalty&#x27;: [&#x27;l1&#x27;,\n",
       "                                                                     &#x27;l2&#x27;]},\n",
       "                                             scoring=&#x27;accuracy&#x27;)),\n",
       "                               (&#x27;Naive Bayes&#x27;, MultinomialNB()),\n",
       "                               (&#x27;Support Vector Classifier&#x27;, SVC())],\n",
       "                   final_estimator=LogisticRegression())</pre></div></div></div><div class=\"sk-serial\"><div class=\"sk-item\"><div class=\"sk-parallel\"><div class=\"sk-parallel-item\"><div class=\"sk-item\"><div class=\"sk-label-container\"><div class=\"sk-label sk-toggleable\"><label>Logistic Regression</label></div></div><div class=\"sk-serial\"><div class=\"sk-item sk-dashed-wrapped\"><div class=\"sk-parallel\"><div class=\"sk-parallel-item\"><div class=\"sk-item\"><div class=\"sk-label-container\"><div class=\"sk-label sk-toggleable\"><input class=\"sk-toggleable__control sk-hidden--visually\" id=\"sk-estimator-id-20\" type=\"checkbox\" ><label for=\"sk-estimator-id-20\" class=\"sk-toggleable__label sk-toggleable__label-arrow\">estimator: LogisticRegression</label><div class=\"sk-toggleable__content\"><pre>LogisticRegression(max_iter=10000, solver=&#x27;liblinear&#x27;)</pre></div></div></div><div class=\"sk-serial\"><div class=\"sk-item\"><div class=\"sk-estimator sk-toggleable\"><input class=\"sk-toggleable__control sk-hidden--visually\" id=\"sk-estimator-id-21\" type=\"checkbox\" ><label for=\"sk-estimator-id-21\" class=\"sk-toggleable__label sk-toggleable__label-arrow\">LogisticRegression</label><div class=\"sk-toggleable__content\"><pre>LogisticRegression(max_iter=10000, solver=&#x27;liblinear&#x27;)</pre></div></div></div></div></div></div></div></div></div></div></div><div class=\"sk-parallel-item\"><div class=\"sk-item\"><div class=\"sk-label-container\"><div class=\"sk-label sk-toggleable\"><label>Naive Bayes</label></div></div><div class=\"sk-serial\"><div class=\"sk-item\"><div class=\"sk-estimator sk-toggleable\"><input class=\"sk-toggleable__control sk-hidden--visually\" id=\"sk-estimator-id-22\" type=\"checkbox\" ><label for=\"sk-estimator-id-22\" class=\"sk-toggleable__label sk-toggleable__label-arrow\">MultinomialNB</label><div class=\"sk-toggleable__content\"><pre>MultinomialNB()</pre></div></div></div></div></div></div><div class=\"sk-parallel-item\"><div class=\"sk-item\"><div class=\"sk-label-container\"><div class=\"sk-label sk-toggleable\"><label>Support Vector Classifier</label></div></div><div class=\"sk-serial\"><div class=\"sk-item\"><div class=\"sk-estimator sk-toggleable\"><input class=\"sk-toggleable__control sk-hidden--visually\" id=\"sk-estimator-id-23\" type=\"checkbox\" ><label for=\"sk-estimator-id-23\" class=\"sk-toggleable__label sk-toggleable__label-arrow\">SVC</label><div class=\"sk-toggleable__content\"><pre>SVC()</pre></div></div></div></div></div></div></div></div><div class=\"sk-item\"><div class=\"sk-parallel\"><div class=\"sk-parallel-item\"><div class=\"sk-item\"><div class=\"sk-label-container\"><div class=\"sk-label sk-toggleable\"><label>final_estimator</label></div></div><div class=\"sk-serial\"><div class=\"sk-item\"><div class=\"sk-estimator sk-toggleable\"><input class=\"sk-toggleable__control sk-hidden--visually\" id=\"sk-estimator-id-24\" type=\"checkbox\" ><label for=\"sk-estimator-id-24\" class=\"sk-toggleable__label sk-toggleable__label-arrow\">LogisticRegression</label><div class=\"sk-toggleable__content\"><pre>LogisticRegression()</pre></div></div></div></div></div></div></div></div></div></div></div></div>"
      ],
      "text/plain": [
       "StackingClassifier(estimators=[('Logistic Regression',\n",
       "                                GridSearchCV(cv=10,\n",
       "                                             estimator=LogisticRegression(max_iter=10000,\n",
       "                                                                          solver='liblinear'),\n",
       "                                             param_grid={'C': array([1.e-03, 1.e-02, 1.e-01, 1.e+00, 1.e+01, 1.e+02, 1.e+03]),\n",
       "                                                         'penalty': ['l1',\n",
       "                                                                     'l2']},\n",
       "                                             scoring='accuracy')),\n",
       "                               ('Naive Bayes', MultinomialNB()),\n",
       "                               ('Support Vector Classifier', SVC())],\n",
       "                   final_estimator=LogisticRegression())"
      ]
     },
     "execution_count": 178,
     "metadata": {},
     "output_type": "execute_result"
    }
   ],
   "source": [
    "estimators = [(\"Logistic Regression\", lr_clf), (\"Naive Bayes\", nb_clf), (\"Support Vector Classifier\", svc_clf)]\n",
    "stacking_clf = StackingClassifier(estimators=estimators, final_estimator=LogisticRegression())\n",
    "stacking_clf.fit(x_train_tfv, y_train)"
   ]
  },
  {
   "cell_type": "code",
   "execution_count": 179,
   "metadata": {},
   "outputs": [
    {
     "name": "stdout",
     "output_type": "stream",
     "text": [
      "              precision    recall  f1-score   support\n",
      "\n",
      "           0       0.75      0.93      0.83      2399\n",
      "           1       0.52      0.20      0.29       948\n",
      "\n",
      "    accuracy                           0.72      3347\n",
      "   macro avg       0.64      0.56      0.56      3347\n",
      "weighted avg       0.68      0.72      0.68      3347\n",
      "\n"
     ]
    },
    {
     "data": {
      "image/png": "[encoded data removed]",
      "text/plain": [
       "<Figure size 640x480 with 2 Axes>"
      ]
     },
     "metadata": {},
     "output_type": "display_data"
    }
   ],
   "source": [
    "score_model(stacking_clf, x_test_tfv, y_test)"
   ]
  }
 ],
 "metadata": {
  "kernelspec": {
   "display_name": "Python 3.9.7 ('base')",
   "language": "python",
   "name": "python3"
  },
  "language_info": {
   "codemirror_mode": {
    "name": "ipython",
    "version": 3
   },
   "file_extension": ".py",
   "mimetype": "text/x-python",
   "name": "python",
   "nbconvert_exporter": "python",
   "pygments_lexer": "ipython3",
   "version": "3.9.7"
  },
  "orig_nbformat": 4,
  "vscode": {
   "interpreter": {
    "hash": "f6ab50e3e72d9027698848049824dee5f357392f7c8470ae2dc6788d02714a02"
   }
  }
 },
 "nbformat": 4,
 "nbformat_minor": 2
}
